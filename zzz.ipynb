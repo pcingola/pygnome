{
 "cells": [
  {
   "cell_type": "markdown",
   "id": "2c882ffc",
   "metadata": {},
   "source": [
    "# Tests"
   ]
  },
  {
   "cell_type": "code",
   "execution_count": null,
   "id": "73fd54b6",
   "metadata": {},
   "outputs": [],
   "source": [
    "from pathlib import Path\n",
    "from pygnome.parsers.msi.msi_sites_loader import load_msi_sites"
   ]
  },
  {
   "cell_type": "code",
   "execution_count": null,
   "id": "03e1ec1d",
   "metadata": {},
   "outputs": [],
   "source": [
    "# Get the path to the home directory\n",
    "home_path = Path.home()\n",
    "\n",
    "msi_sites_file = home_path / 'hg38_sites.small.txt'\n",
    "# msi_sites_file = home_path / 'hg38_sites.txt'\n",
    "print(msi_sites_file)\n",
    "\n",
    "save_to = msi_sites_file.with_suffix('.pckl')\n",
    "print(save_to)"
   ]
  },
  {
   "cell_type": "code",
   "execution_count": null,
   "id": "3f885392",
   "metadata": {},
   "outputs": [],
   "source": [
    "gfs = load_msi_sites(msi_sites_file, verbose=True)"
   ]
  },
  {
   "cell_type": "code",
   "execution_count": null,
   "id": "ac9c857d",
   "metadata": {},
   "outputs": [],
   "source": [
    "for i, c in enumerate(gfs):\n",
    "    print(c)\n",
    "    if i > 5:\n",
    "        break\n"
   ]
  },
  {
   "cell_type": "code",
   "execution_count": null,
   "id": "9d210482",
   "metadata": {},
   "outputs": [],
   "source": [
    "EXIT"
   ]
  },
  {
   "cell_type": "code",
   "execution_count": null,
   "id": "30138887",
   "metadata": {},
   "outputs": [],
   "source": [
    "gfs.get_by_position('chr1', 1013967)"
   ]
  },
  {
   "cell_type": "code",
   "execution_count": null,
   "id": "833db8b0",
   "metadata": {},
   "outputs": [],
   "source": [
    "import os\n",
    "\n",
    "gfs.save(save_to)\n",
    "original_size = os.path.getsize(msi_sites_file)\n",
    "saved_size = os.path.getsize(save_to)\n",
    "\n",
    "print(f\"Original file size: {original_size} bytes\")\n",
    "print(f\"Saved file size: {saved_size} bytes {saved_size / original_size:.2%}\")"
   ]
  },
  {
   "cell_type": "code",
   "execution_count": null,
   "id": "db1fc582",
   "metadata": {},
   "outputs": [],
   "source": [
    "from pygnome.feature_store.genomic_feature_store import GenomicFeatureStore\n",
    "\n",
    "\n",
    "gfs_load = GenomicFeatureStore.load(save_to)"
   ]
  },
  {
   "cell_type": "code",
   "execution_count": null,
   "id": "3be0e742",
   "metadata": {},
   "outputs": [],
   "source": [
    "for cs in gfs:\n",
    "    print(cs)"
   ]
  },
  {
   "cell_type": "code",
   "execution_count": null,
   "id": "98e3909c",
   "metadata": {},
   "outputs": [],
   "source": []
  }
 ],
 "metadata": {
  "kernelspec": {
   "display_name": ".venv",
   "language": "python",
   "name": "python3"
  },
  "language_info": {
   "codemirror_mode": {
    "name": "ipython",
    "version": 3
   },
   "file_extension": ".py",
   "mimetype": "text/x-python",
   "name": "python",
   "nbconvert_exporter": "python",
   "pygments_lexer": "ipython3",
   "version": "3.12.2"
  }
 },
 "nbformat": 4,
 "nbformat_minor": 5
}
