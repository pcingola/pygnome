{
 "cells": [
  {
   "cell_type": "markdown",
   "id": "2c882ffc",
   "metadata": {},
   "source": [
    "# Tests"
   ]
  },
  {
   "cell_type": "code",
   "execution_count": 1,
   "id": "73fd54b6",
   "metadata": {},
   "outputs": [],
   "source": [
    "from pathlib import Path\n",
    "from pygnome.parsers.msi.msi_sites_loader import load_msi_sites\n",
    "from pygnome.feature_store.genomic_feature_store import GenomicFeatureStore"
   ]
  },
  {
   "cell_type": "code",
   "execution_count": null,
   "id": "03e1ec1d",
   "metadata": {},
   "outputs": [
    {
     "name": "stdout",
     "output_type": "stream",
     "text": [
      "/Users/kqrw311/hg38_sites.small.txt\n",
      "/Users/kqrw311/hg38_sites.small.pckl\n"
     ]
    }
   ],
   "source": [
    "# Get the path to the home directory\n",
    "home_path = Path.home()\n",
    "\n",
    "msi_sites_file = home_path / 'hg38_sites.txt'\n",
    "# msi_sites_file = home_path / 'hg38_sites.txt'\n",
    "print(msi_sites_file)\n",
    "\n",
    "save_to = msi_sites_file.with_suffix('.pckl')\n",
    "print(save_to)"
   ]
  },
  {
   "cell_type": "code",
   "execution_count": 3,
   "id": "3f885392",
   "metadata": {},
   "outputs": [
    {
     "name": "stdout",
     "output_type": "stream",
     "text": [
      "Counting features in /Users/kqrw311/hg38_sites.small.txt...\n",
      "1 (0.00s): chr1\n",
      "Total features counted: 9999 (elapsed: 0.03s)\n",
      "Loading features into stores...\n",
      "1 (0.03s): chr1\n",
      "Total features loaded: 9999 (0.07s)\n",
      "  chr1: 9999 features\n",
      "  Total features in stores: 9999\n",
      "GenomicFeatureStore(type=msi, chromosomes=1, features=9999, chr1: 9999)\n",
      "\tMsiChromosomeStore(chromosome='chr1', features=9999, status=built, data_status=loaded, memory_usage=0.08MB, bins=11, avg_max_length=47.5, sample: [MSI_10485, MSI_10629, MSI_10652, MSI_10658, MSI_10681, MSI_10687, MSI_10710, MSI_10716, MSI_10739, MSI_10745, ...])\n"
     ]
    }
   ],
   "source": [
    "gfs = load_msi_sites(msi_sites_file, verbose=True)\n",
    "print(gfs)"
   ]
  },
  {
   "cell_type": "code",
   "execution_count": 4,
   "id": "30138887",
   "metadata": {},
   "outputs": [
    {
     "data": {
      "text/plain": [
       "[MsiSiteRecord(id='MSI_1013967', chrom='chr1', start=1013967, end=1013973, strand=<Strand.UNSTRANDED: '.'>)]"
      ]
     },
     "execution_count": 4,
     "metadata": {},
     "output_type": "execute_result"
    }
   ],
   "source": [
    "gfs.get_by_position('chr1', 1013967)"
   ]
  },
  {
   "cell_type": "code",
   "execution_count": 5,
   "id": "833db8b0",
   "metadata": {},
   "outputs": [
    {
     "name": "stdout",
     "output_type": "stream",
     "text": [
      "Original file size: 403789 bytes\n",
      "Saved file size: 164601 bytes 40.76%\n"
     ]
    }
   ],
   "source": [
    "import os\n",
    "\n",
    "gfs.save(save_to)\n",
    "original_size = os.path.getsize(msi_sites_file)\n",
    "saved_size = os.path.getsize(save_to)\n",
    "\n",
    "print(f\"Original file size: {original_size} bytes\")\n",
    "print(f\"Saved file size: {saved_size} bytes {saved_size / original_size:.2%}\")"
   ]
  },
  {
   "cell_type": "code",
   "execution_count": 6,
   "id": "db1fc582",
   "metadata": {},
   "outputs": [
    {
     "name": "stdout",
     "output_type": "stream",
     "text": [
      "GenomicFeatureStore(type=msi, chromosomes=1, features=9999, chr1: 9999)\n",
      "\tMsiChromosomeStore(chromosome='chr1', features=9999, status=built, data_status=loaded, memory_usage=0.08MB, bins=11, avg_max_length=47.5, sample: [MSI_10485, MSI_10629, MSI_10652, MSI_10658, MSI_10681, MSI_10687, MSI_10710, MSI_10716, MSI_10739, MSI_10745, ...])\n"
     ]
    }
   ],
   "source": [
    "gfs_load = GenomicFeatureStore.load(save_to)\n",
    "print(gfs_load)"
   ]
  },
  {
   "cell_type": "code",
   "execution_count": 7,
   "id": "eba0d9d3",
   "metadata": {},
   "outputs": [
    {
     "data": {
      "text/plain": [
       "True"
      ]
     },
     "execution_count": 7,
     "metadata": {},
     "output_type": "execute_result"
    }
   ],
   "source": [
    "str(gfs_load) == str(gfs)"
   ]
  }
 ],
 "metadata": {
  "kernelspec": {
   "display_name": ".venv",
   "language": "python",
   "name": "python3"
  },
  "language_info": {
   "codemirror_mode": {
    "name": "ipython",
    "version": 3
   },
   "file_extension": ".py",
   "mimetype": "text/x-python",
   "name": "python",
   "nbconvert_exporter": "python",
   "pygments_lexer": "ipython3",
   "version": "3.12.2"
  }
 },
 "nbformat": 4,
 "nbformat_minor": 5
}
